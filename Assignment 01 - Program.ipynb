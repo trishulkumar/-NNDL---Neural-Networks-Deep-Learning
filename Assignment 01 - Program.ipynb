{
  "nbformat": 4,
  "nbformat_minor": 0,
  "metadata": {
    "colab": {
      "name": "Assignment  01 - Program.ipynb",
      "provenance": [],
      "collapsed_sections": []
    },
    "kernelspec": {
      "name": "python3",
      "display_name": "Python 3"
    }
  },
  "cells": [
    {
      "cell_type": "code",
      "metadata": {
        "colab": {
          "base_uri": "https://localhost:8080/"
        },
        "id": "MHhZB-jlpqVK",
        "outputId": "1464ae97-ad4d-41cb-e332-d03d56f80c0f"
      },
      "source": [
        "\"\"\"\n",
        "SR University, Warangal, India.\n",
        "Nural-Networks & Deep-Learning - Professional Elective - 2.\n",
        "Mentor - V.Venkatramana, EEE department.\n",
        "Assignment - 1\n",
        "18K41A0564 \n",
        "\n",
        "\"\"\"\n",
        "\n",
        "from sympy import * \n",
        "#library for symbolic mathematics\n",
        "\n",
        "#step1  -------->       initialize the required variables \n",
        "x0 = 2                  #x is some random value\n",
        "epoches = 132           #epoches(iterations)\n",
        "learning_rate= 0.04     #learning_rate(eta value)\n",
        "\n",
        "#step2  -------->       1st derivative of the function)\n",
        "x=Symbol('x')\n",
        "y0=x**4+3*x**2+10\n",
        "y=y0.diff(x)\n",
        "\n",
        "#calculate value of 1st derivative at x0\n",
        "\n",
        "for i in range(0,epoches):   # --> step5 ------> increments the iter i value.\n",
        "  df=y.subs(x,x0)\n",
        "  df=round(df,2)\n",
        "\n",
        "  #step3 ----------> change in x value.\n",
        "  x1=-1*(learning_rate)*df\n",
        "  x1=round(x1,2)\n",
        "\n",
        "  #step4 ----------> update x value.\n",
        "  x0=x0+x1\n",
        "  x0=round(x0,2)\n",
        "  \n",
        "  #step6 ----------> checks to break the loop or not.\n",
        "  if i>epoches:\n",
        "    break\n",
        "  else:\n",
        "    continue\n",
        "\n",
        "#step7   -------->   print the x and minimum values.\n",
        "print('The minimum value obtained is at x =',x0)\n",
        "\n",
        "\n",
        "\n",
        "\n",
        "\n"
      ],
      "execution_count": null,
      "outputs": [
        {
          "output_type": "stream",
          "text": [
            "The minimum value obtained is at x = 0.02\n"
          ],
          "name": "stdout"
        }
      ]
    }
  ]
}