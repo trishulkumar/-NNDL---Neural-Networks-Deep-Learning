{
  "nbformat": 4,
  "nbformat_minor": 0,
  "metadata": {
    "colab": {
      "name": "Assignment 02 - Program",
      "provenance": []
    },
    "kernelspec": {
      "name": "python3",
      "display_name": "Python 3"
    },
    "language_info": {
      "name": "python"
    }
  },
  "cells": [
    {
      "cell_type": "markdown",
      "metadata": {
        "id": "B_s5POiDGIpU"
      },
      "source": [
        ""
      ]
    },
    {
      "cell_type": "code",
      "metadata": {
        "id": "XamVcQzWHGod",
        "colab": {
          "base_uri": "https://localhost:8080/"
        },
        "outputId": "b7fba032-7ef0-480b-8906-5a5d8519c18c"
      },
      "source": [
        "\"\"\"\n",
        "SR University, Warangal, India.\n",
        "Nural-Networks & Deep-Learning - Professional Elective - 2.\n",
        "Mentor - V.Venkatramana, EEE department.\n",
        "Assignment - 2\n",
        "18K41A0564 \n",
        "\n",
        "\"\"\"\n",
        "\n",
        "\n",
        "\n",
        "from sympy import * \n",
        "#step-1\n",
        "x0=1\n",
        "y0=-1\n",
        "epochs=100 #iterations \n",
        "learn_rate=0.1 # eta value\n",
        "\n",
        "#step-2\n",
        "x=Symbol('x')\n",
        "y=Symbol('y')\n",
        "fun=x**2+y**2+10\n",
        "fx=fun.diff(x)\n",
        "fy=fun.diff(y)\n",
        "for itr in range(0,epochs):  #step-5\n",
        " dfx=fx.subs(x,x0)\n",
        " dfy=fy.subs(y,y0)\n",
        " dfx=round(dfx,2)\n",
        " dfy=round(dfy,2)\n",
        " \n",
        " #step-3\n",
        " cx=-1*(learn_rate)*dfx\n",
        " cy=-1*(learn_rate)*dfy\n",
        " cx=round(cx,2)\n",
        " cy=round(cy,2)\n",
        " \n",
        " #step-4\n",
        " x0=x0+cx\n",
        " y0=y0+cy\n",
        " x0=round(x0,2)\n",
        " y0=round(y0,2)\n",
        "    \n",
        " #step-6\n",
        " if itr>epochs:\n",
        "  break\n",
        " else:\n",
        "  continue\n",
        "#step-7\n",
        "print('Minimum value for x=',x0)\n",
        "print('Minimum value for y=',y0)"
      ],
      "execution_count": 1,
      "outputs": [
        {
          "output_type": "stream",
          "text": [
            "Minimum value for x= 0.02\n",
            "Minimum value for y= -0.02\n"
          ],
          "name": "stdout"
        }
      ]
    }
  ]
}