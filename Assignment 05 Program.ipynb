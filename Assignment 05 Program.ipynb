{
  "nbformat": 4,
  "nbformat_minor": 0,
  "metadata": {
    "colab": {
      "name": "Assignment 05 - Program",
      "provenance": []
    },
    "kernelspec": {
      "name": "python3",
      "display_name": "Python 3"
    },
    "language_info": {
      "name": "python"
    }
  },
  "cells": [
    {
      "cell_type": "code",
      "metadata": {
        "colab": {
          "base_uri": "https://localhost:8080/"
        },
        "id": "6UcnaKzwS4b8",
        "outputId": "9240186c-8fc5-4610-ea03-8fc54585c315"
      },
      "source": [
        "\"\"\"\n",
        "\n",
        "SR University, Warangal, India.\n",
        "Nural-Networks & Deep-Learning - Professional Elective - 2.\n",
        "Mentor - V.Venkatramana, EEE department.\n",
        "Assignment - 5\n",
        "18K41A0564 \n",
        "\n",
        "\"\"\"\n",
        "\n",
        "from sympy import * \n",
        "dtx=[0.2,0.4,0.6,0.8]\n",
        "dty=[3.4,3.8,4.2,4.6]\n",
        "test_x=[1.0,1.2]\n",
        "test_y=[5.0,5.4]\n",
        "#step-1\n",
        "bs=2\n",
        "m0=1\n",
        "c0=-1\n",
        "epochs=100\n",
        "learningrate=0.1\n",
        "ns=len(dtx)\n",
        "nb=ns//bs\n",
        "\n",
        "#step-2\n",
        "x=Symbol('x')\n",
        "y=Symbol('y')\n",
        "m=Symbol('m')\n",
        "c=Symbol('c')\n",
        "E=(0.5)*(y-(m*x)-c)**2\n",
        "fx=x**2+y**2+10\n",
        "Em=E.diff(m)\n",
        "Ec=E.diff(c)\n",
        "\n",
        "for itr in range(0,epochs):  #step-9\n",
        " for b in range(0,nb):       #step-8\n",
        "  dfEm1=0\n",
        "  dfEc1=0\n",
        "  for i in range(0,bs):      #step-7\n",
        "    j=b*bs+i\n",
        "    #step-4\n",
        "    dfEm=Em.subs(m,m0)\n",
        "    dfEm=dfEm.subs(c,c0) \n",
        "    dfEm=dfEm.subs(x,dtx[j]) \n",
        "    dfEm=dfEm.subs(y,dty[j])\n",
        "    dfEm=round(dfEm,2)\n",
        "    dfEc=Ec.subs(m,m0)\n",
        "    dfEc=dfEc.subs(c,c0) \n",
        "    dfEc=dfEc.subs(x,dtx[j]) \n",
        "    dfEc=dfEc.subs(y,dty[j])\n",
        "    dfEc=round(dfEc,2)\n",
        "    dfEm1+=dfEm\n",
        "    dfEc1+=dfEc\n",
        "  #step-5\n",
        "  dfEm1 = dfEm1/bs\n",
        "  dfEc1 = dfEc1/bs\n",
        "  dfEm1 = round(dfEm1,2)\n",
        "  dfEc1 = round(dfEc1,2)\n",
        "  cm=(-1.0)*learningrate*dfEm1\n",
        "  cc=(-1.0)*learningrate*dfEc1\n",
        " \n",
        "  #step-6\n",
        "  m0=m0+cm\n",
        "  c0=c0+cc\n",
        "  m0=round(m0,2)\n",
        "  c0=round(c0,2)\n",
        "#step-10\n",
        "print('Minimum value is at m=',m0)\n",
        "print('Minimum value is at c=',c0)"
      ],
      "execution_count": 1,
      "outputs": [
        {
          "output_type": "stream",
          "text": [
            "Minimum value is at m= 2.49\n",
            "Minimum value is at c= 2.71\n"
          ],
          "name": "stdout"
        }
      ]
    }
  ]
}