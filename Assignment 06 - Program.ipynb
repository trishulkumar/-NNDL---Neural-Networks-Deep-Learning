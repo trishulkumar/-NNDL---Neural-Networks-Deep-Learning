{
  "nbformat": 4,
  "nbformat_minor": 0,
  "metadata": {
    "kernelspec": {
      "display_name": "Python 3",
      "language": "python",
      "name": "python3"
    },
    "language_info": {
      "codemirror_mode": {
        "name": "ipython",
        "version": 3
      },
      "file_extension": ".py",
      "mimetype": "text/x-python",
      "name": "python",
      "nbconvert_exporter": "python",
      "pygments_lexer": "ipython3",
      "version": "3.8.3"
    },
    "colab": {
      "name": "Assignment 06 - Program.ipynb",
      "provenance": []
    }
  },
  "cells": [
    {
      "cell_type": "code",
      "metadata": {
        "id": "yaPvzQeVVDnl"
      },
      "source": [
        "\"\"\"\n",
        "\n",
        "SR University, Warangal, India.\n",
        "Nural-Networks & Deep-Learning - Professional Elective - 2.\n",
        "Mentor - V.Venkatramana, EEE department.\n",
        "Assignment - 6\n",
        "18K41A0564 \n",
        "\n",
        "\"\"\""
      ],
      "execution_count": null,
      "outputs": []
    },
    {
      "cell_type": "code",
      "metadata": {
        "id": "LyW9b05EU1eR"
      },
      "source": [
        "import numpy as np\n",
        "import matplotlib.pyplot as plt\n",
        "import pandas as pd\n",
        "from sklearn.preprocessing import minmax_scale\n",
        "from sklearn.model_selection import train_test_split\n",
        "import seaborn as sns\n",
        "from scipy import stats"
      ],
      "execution_count": null,
      "outputs": []
    },
    {
      "cell_type": "code",
      "metadata": {
        "id": "r9tEXjKuU1eY",
        "outputId": "eb24dcc1-fbe8-4ca2-c8de-d3012f2e58f7"
      },
      "source": [
        "data = pd.read_csv(\"kc_house_data.csv\")\n",
        "data.info()"
      ],
      "execution_count": null,
      "outputs": [
        {
          "output_type": "stream",
          "text": [
            "<class 'pandas.core.frame.DataFrame'>\n",
            "RangeIndex: 21613 entries, 0 to 21612\n",
            "Data columns (total 21 columns):\n",
            " #   Column         Non-Null Count  Dtype  \n",
            "---  ------         --------------  -----  \n",
            " 0   id             21613 non-null  int64  \n",
            " 1   date           21613 non-null  object \n",
            " 2   price          21613 non-null  float64\n",
            " 3   bedrooms       21613 non-null  int64  \n",
            " 4   bathrooms      21613 non-null  float64\n",
            " 5   sqft_living    21613 non-null  int64  \n",
            " 6   sqft_lot       21613 non-null  int64  \n",
            " 7   floors         21613 non-null  float64\n",
            " 8   waterfront     21613 non-null  int64  \n",
            " 9   view           21613 non-null  int64  \n",
            " 10  condition      21613 non-null  int64  \n",
            " 11  grade          21613 non-null  int64  \n",
            " 12  sqft_above     21613 non-null  int64  \n",
            " 13  sqft_basement  21613 non-null  int64  \n",
            " 14  yr_built       21613 non-null  int64  \n",
            " 15  yr_renovated   21613 non-null  int64  \n",
            " 16  zipcode        21613 non-null  int64  \n",
            " 17  lat            21613 non-null  float64\n",
            " 18  long           21613 non-null  float64\n",
            " 19  sqft_living15  21613 non-null  int64  \n",
            " 20  sqft_lot15     21613 non-null  int64  \n",
            "dtypes: float64(5), int64(15), object(1)\n",
            "memory usage: 3.5+ MB\n"
          ],
          "name": "stdout"
        }
      ]
    },
    {
      "cell_type": "code",
      "metadata": {
        "id": "DsegDRFpU1eZ",
        "outputId": "8cba706d-dd2f-4940-e18d-1f843df31fcc"
      },
      "source": [
        "d=np.abs(stats.zscore(data['price']))\n",
        "print(d)"
      ],
      "execution_count": null,
      "outputs": [
        {
          "output_type": "stream",
          "text": [
            "[0.86671733 0.00568792 0.98084935 ... 0.37586519 0.38158814 0.58588173]\n"
          ],
          "name": "stdout"
        }
      ]
    },
    {
      "cell_type": "code",
      "metadata": {
        "id": "RaylcgRIU1ea",
        "outputId": "f5768690-4493-4339-9ecd-5a541fcb8da1"
      },
      "source": [
        "sns.boxplot(x=data['price'])"
      ],
      "execution_count": null,
      "outputs": [
        {
          "output_type": "execute_result",
          "data": {
            "text/plain": [
              "<matplotlib.axes._subplots.AxesSubplot at 0x5014040>"
            ]
          },
          "metadata": {
            "tags": []
          },
          "execution_count": 7
        },
        {
          "output_type": "display_data",
          "data": {
            "image/png": "[encoded data removed]",
            "text/plain": [
              "<Figure size 432x288 with 1 Axes>"
            ]
          },
          "metadata": {
            "tags": [],
            "needs_background": "light"
          }
        }
      ]
    },
    {
      "cell_type": "code",
      "metadata": {
        "id": "wts6e1aVU1ea",
        "outputId": "218a7012-5526-44cc-de8a-961a5a8f03ff"
      },
      "source": [
        "df = pd.DataFrame(data=data)\n",
        "df.head()"
      ],
      "execution_count": null,
      "outputs": [
        {
          "output_type": "execute_result",
          "data": {
            "text/html": [
              "<div>\n",
              "<style scoped>\n",
              "    .dataframe tbody tr th:only-of-type {\n",
              "        vertical-align: middle;\n",
              "    }\n",
              "\n",
              "    .dataframe tbody tr th {\n",
              "        vertical-align: top;\n",
              "    }\n",
              "\n",
              "    .dataframe thead th {\n",
              "        text-align: right;\n",
              "    }\n",
              "</style>\n",
              "<table border=\"1\" class=\"dataframe\">\n",
              "  <thead>\n",
              "    <tr style=\"text-align: right;\">\n",
              "      <th></th>\n",
              "      <th>id</th>\n",
              "      <th>date</th>\n",
              "      <th>price</th>\n",
              "      <th>bedrooms</th>\n",
              "      <th>bathrooms</th>\n",
              "      <th>sqft_living</th>\n",
              "      <th>sqft_lot</th>\n",
              "      <th>floors</th>\n",
              "      <th>waterfront</th>\n",
              "      <th>view</th>\n",
              "      <th>...</th>\n",
              "      <th>grade</th>\n",
              "      <th>sqft_above</th>\n",
              "      <th>sqft_basement</th>\n",
              "      <th>yr_built</th>\n",
              "      <th>yr_renovated</th>\n",
              "      <th>zipcode</th>\n",
              "      <th>lat</th>\n",
              "      <th>long</th>\n",
              "      <th>sqft_living15</th>\n",
              "      <th>sqft_lot15</th>\n",
              "    </tr>\n",
              "  </thead>\n",
              "  <tbody>\n",
              "    <tr>\n",
              "      <th>0</th>\n",
              "      <td>7129300520</td>\n",
              "      <td>20141013T000000</td>\n",
              "      <td>221900.0</td>\n",
              "      <td>3</td>\n",
              "      <td>1.00</td>\n",
              "      <td>1180</td>\n",
              "      <td>5650</td>\n",
              "      <td>1.0</td>\n",
              "      <td>0</td>\n",
              "      <td>0</td>\n",
              "      <td>...</td>\n",
              "      <td>7</td>\n",
              "      <td>1180</td>\n",
              "      <td>0</td>\n",
              "      <td>1955</td>\n",
              "      <td>0</td>\n",
              "      <td>98178</td>\n",
              "      <td>47.5112</td>\n",
              "      <td>-122.257</td>\n",
              "      <td>1340</td>\n",
              "      <td>5650</td>\n",
              "    </tr>\n",
              "    <tr>\n",
              "      <th>1</th>\n",
              "      <td>6414100192</td>\n",
              "      <td>20141209T000000</td>\n",
              "      <td>538000.0</td>\n",
              "      <td>3</td>\n",
              "      <td>2.25</td>\n",
              "      <td>2570</td>\n",
              "      <td>7242</td>\n",
              "      <td>2.0</td>\n",
              "      <td>0</td>\n",
              "      <td>0</td>\n",
              "      <td>...</td>\n",
              "      <td>7</td>\n",
              "      <td>2170</td>\n",
              "      <td>400</td>\n",
              "      <td>1951</td>\n",
              "      <td>1991</td>\n",
              "      <td>98125</td>\n",
              "      <td>47.7210</td>\n",
              "      <td>-122.319</td>\n",
              "      <td>1690</td>\n",
              "      <td>7639</td>\n",
              "    </tr>\n",
              "    <tr>\n",
              "      <th>2</th>\n",
              "      <td>5631500400</td>\n",
              "      <td>20150225T000000</td>\n",
              "      <td>180000.0</td>\n",
              "      <td>2</td>\n",
              "      <td>1.00</td>\n",
              "      <td>770</td>\n",
              "      <td>10000</td>\n",
              "      <td>1.0</td>\n",
              "      <td>0</td>\n",
              "      <td>0</td>\n",
              "      <td>...</td>\n",
              "      <td>6</td>\n",
              "      <td>770</td>\n",
              "      <td>0</td>\n",
              "      <td>1933</td>\n",
              "      <td>0</td>\n",
              "      <td>98028</td>\n",
              "      <td>47.7379</td>\n",
              "      <td>-122.233</td>\n",
              "      <td>2720</td>\n",
              "      <td>8062</td>\n",
              "    </tr>\n",
              "    <tr>\n",
              "      <th>3</th>\n",
              "      <td>2487200875</td>\n",
              "      <td>20141209T000000</td>\n",
              "      <td>604000.0</td>\n",
              "      <td>4</td>\n",
              "      <td>3.00</td>\n",
              "      <td>1960</td>\n",
              "      <td>5000</td>\n",
              "      <td>1.0</td>\n",
              "      <td>0</td>\n",
              "      <td>0</td>\n",
              "      <td>...</td>\n",
              "      <td>7</td>\n",
              "      <td>1050</td>\n",
              "      <td>910</td>\n",
              "      <td>1965</td>\n",
              "      <td>0</td>\n",
              "      <td>98136</td>\n",
              "      <td>47.5208</td>\n",
              "      <td>-122.393</td>\n",
              "      <td>1360</td>\n",
              "      <td>5000</td>\n",
              "    </tr>\n",
              "    <tr>\n",
              "      <th>4</th>\n",
              "      <td>1954400510</td>\n",
              "      <td>20150218T000000</td>\n",
              "      <td>510000.0</td>\n",
              "      <td>3</td>\n",
              "      <td>2.00</td>\n",
              "      <td>1680</td>\n",
              "      <td>8080</td>\n",
              "      <td>1.0</td>\n",
              "      <td>0</td>\n",
              "      <td>0</td>\n",
              "      <td>...</td>\n",
              "      <td>8</td>\n",
              "      <td>1680</td>\n",
              "      <td>0</td>\n",
              "      <td>1987</td>\n",
              "      <td>0</td>\n",
              "      <td>98074</td>\n",
              "      <td>47.6168</td>\n",
              "      <td>-122.045</td>\n",
              "      <td>1800</td>\n",
              "      <td>7503</td>\n",
              "    </tr>\n",
              "  </tbody>\n",
              "</table>\n",
              "<p>5 rows × 21 columns</p>\n",
              "</div>"
            ],
            "text/plain": [
              "           id             date     price  bedrooms  bathrooms  sqft_living  \\\n",
              "0  7129300520  20141013T000000  221900.0         3       1.00         1180   \n",
              "1  6414100192  20141209T000000  538000.0         3       2.25         2570   \n",
              "2  5631500400  20150225T000000  180000.0         2       1.00          770   \n",
              "3  2487200875  20141209T000000  604000.0         4       3.00         1960   \n",
              "4  1954400510  20150218T000000  510000.0         3       2.00         1680   \n",
              "\n",
              "   sqft_lot  floors  waterfront  view  ...  grade  sqft_above  sqft_basement  \\\n",
              "0      5650     1.0           0     0  ...      7        1180              0   \n",
              "1      7242     2.0           0     0  ...      7        2170            400   \n",
              "2     10000     1.0           0     0  ...      6         770              0   \n",
              "3      5000     1.0           0     0  ...      7        1050            910   \n",
              "4      8080     1.0           0     0  ...      8        1680              0   \n",
              "\n",
              "   yr_built  yr_renovated  zipcode      lat     long  sqft_living15  \\\n",
              "0      1955             0    98178  47.5112 -122.257           1340   \n",
              "1      1951          1991    98125  47.7210 -122.319           1690   \n",
              "2      1933             0    98028  47.7379 -122.233           2720   \n",
              "3      1965             0    98136  47.5208 -122.393           1360   \n",
              "4      1987             0    98074  47.6168 -122.045           1800   \n",
              "\n",
              "   sqft_lot15  \n",
              "0        5650  \n",
              "1        7639  \n",
              "2        8062  \n",
              "3        5000  \n",
              "4        7503  \n",
              "\n",
              "[5 rows x 21 columns]"
            ]
          },
          "metadata": {
            "tags": []
          },
          "execution_count": 8
        }
      ]
    },
    {
      "cell_type": "code",
      "metadata": {
        "id": "c44kZMAHU1eb",
        "outputId": "c23d41ab-3446-42d8-e1b5-5453f9acb7ec"
      },
      "source": [
        "x = df\n",
        "df.drop(['date'],axis=1)\n",
        "for i in df:\n",
        "    if i != 'date':\n",
        "        q = df[i].quantile(0.99)\n",
        "        df[df[i] < q]\n",
        "        q_low = df[i].quantile(0.01)\n",
        "        q_hi  = df[i].quantile(0.99)\n",
        "\n",
        "        df_filtered = df[(df[i] < q_hi) & (df[i] > q_low)]\n",
        "        \n",
        "df_filtered.head()"
      ],
      "execution_count": null,
      "outputs": [
        {
          "output_type": "execute_result",
          "data": {
            "text/html": [
              "<div>\n",
              "<style scoped>\n",
              "    .dataframe tbody tr th:only-of-type {\n",
              "        vertical-align: middle;\n",
              "    }\n",
              "\n",
              "    .dataframe tbody tr th {\n",
              "        vertical-align: top;\n",
              "    }\n",
              "\n",
              "    .dataframe thead th {\n",
              "        text-align: right;\n",
              "    }\n",
              "</style>\n",
              "<table border=\"1\" class=\"dataframe\">\n",
              "  <thead>\n",
              "    <tr style=\"text-align: right;\">\n",
              "      <th></th>\n",
              "      <th>id</th>\n",
              "      <th>date</th>\n",
              "      <th>price</th>\n",
              "      <th>bedrooms</th>\n",
              "      <th>bathrooms</th>\n",
              "      <th>sqft_living</th>\n",
              "      <th>sqft_lot</th>\n",
              "      <th>floors</th>\n",
              "      <th>waterfront</th>\n",
              "      <th>view</th>\n",
              "      <th>...</th>\n",
              "      <th>grade</th>\n",
              "      <th>sqft_above</th>\n",
              "      <th>sqft_basement</th>\n",
              "      <th>yr_built</th>\n",
              "      <th>yr_renovated</th>\n",
              "      <th>zipcode</th>\n",
              "      <th>lat</th>\n",
              "      <th>long</th>\n",
              "      <th>sqft_living15</th>\n",
              "      <th>sqft_lot15</th>\n",
              "    </tr>\n",
              "  </thead>\n",
              "  <tbody>\n",
              "    <tr>\n",
              "      <th>0</th>\n",
              "      <td>7129300520</td>\n",
              "      <td>20141013T000000</td>\n",
              "      <td>221900.0</td>\n",
              "      <td>3</td>\n",
              "      <td>1.00</td>\n",
              "      <td>1180</td>\n",
              "      <td>5650</td>\n",
              "      <td>1.0</td>\n",
              "      <td>0</td>\n",
              "      <td>0</td>\n",
              "      <td>...</td>\n",
              "      <td>7</td>\n",
              "      <td>1180</td>\n",
              "      <td>0</td>\n",
              "      <td>1955</td>\n",
              "      <td>0</td>\n",
              "      <td>98178</td>\n",
              "      <td>47.5112</td>\n",
              "      <td>-122.257</td>\n",
              "      <td>1340</td>\n",
              "      <td>5650</td>\n",
              "    </tr>\n",
              "    <tr>\n",
              "      <th>1</th>\n",
              "      <td>6414100192</td>\n",
              "      <td>20141209T000000</td>\n",
              "      <td>538000.0</td>\n",
              "      <td>3</td>\n",
              "      <td>2.25</td>\n",
              "      <td>2570</td>\n",
              "      <td>7242</td>\n",
              "      <td>2.0</td>\n",
              "      <td>0</td>\n",
              "      <td>0</td>\n",
              "      <td>...</td>\n",
              "      <td>7</td>\n",
              "      <td>2170</td>\n",
              "      <td>400</td>\n",
              "      <td>1951</td>\n",
              "      <td>1991</td>\n",
              "      <td>98125</td>\n",
              "      <td>47.7210</td>\n",
              "      <td>-122.319</td>\n",
              "      <td>1690</td>\n",
              "      <td>7639</td>\n",
              "    </tr>\n",
              "    <tr>\n",
              "      <th>2</th>\n",
              "      <td>5631500400</td>\n",
              "      <td>20150225T000000</td>\n",
              "      <td>180000.0</td>\n",
              "      <td>2</td>\n",
              "      <td>1.00</td>\n",
              "      <td>770</td>\n",
              "      <td>10000</td>\n",
              "      <td>1.0</td>\n",
              "      <td>0</td>\n",
              "      <td>0</td>\n",
              "      <td>...</td>\n",
              "      <td>6</td>\n",
              "      <td>770</td>\n",
              "      <td>0</td>\n",
              "      <td>1933</td>\n",
              "      <td>0</td>\n",
              "      <td>98028</td>\n",
              "      <td>47.7379</td>\n",
              "      <td>-122.233</td>\n",
              "      <td>2720</td>\n",
              "      <td>8062</td>\n",
              "    </tr>\n",
              "    <tr>\n",
              "      <th>3</th>\n",
              "      <td>2487200875</td>\n",
              "      <td>20141209T000000</td>\n",
              "      <td>604000.0</td>\n",
              "      <td>4</td>\n",
              "      <td>3.00</td>\n",
              "      <td>1960</td>\n",
              "      <td>5000</td>\n",
              "      <td>1.0</td>\n",
              "      <td>0</td>\n",
              "      <td>0</td>\n",
              "      <td>...</td>\n",
              "      <td>7</td>\n",
              "      <td>1050</td>\n",
              "      <td>910</td>\n",
              "      <td>1965</td>\n",
              "      <td>0</td>\n",
              "      <td>98136</td>\n",
              "      <td>47.5208</td>\n",
              "      <td>-122.393</td>\n",
              "      <td>1360</td>\n",
              "      <td>5000</td>\n",
              "    </tr>\n",
              "    <tr>\n",
              "      <th>4</th>\n",
              "      <td>1954400510</td>\n",
              "      <td>20150218T000000</td>\n",
              "      <td>510000.0</td>\n",
              "      <td>3</td>\n",
              "      <td>2.00</td>\n",
              "      <td>1680</td>\n",
              "      <td>8080</td>\n",
              "      <td>1.0</td>\n",
              "      <td>0</td>\n",
              "      <td>0</td>\n",
              "      <td>...</td>\n",
              "      <td>8</td>\n",
              "      <td>1680</td>\n",
              "      <td>0</td>\n",
              "      <td>1987</td>\n",
              "      <td>0</td>\n",
              "      <td>98074</td>\n",
              "      <td>47.6168</td>\n",
              "      <td>-122.045</td>\n",
              "      <td>1800</td>\n",
              "      <td>7503</td>\n",
              "    </tr>\n",
              "  </tbody>\n",
              "</table>\n",
              "<p>5 rows × 21 columns</p>\n",
              "</div>"
            ],
            "text/plain": [
              "           id             date     price  bedrooms  bathrooms  sqft_living  \\\n",
              "0  7129300520  20141013T000000  221900.0         3       1.00         1180   \n",
              "1  6414100192  20141209T000000  538000.0         3       2.25         2570   \n",
              "2  5631500400  20150225T000000  180000.0         2       1.00          770   \n",
              "3  2487200875  20141209T000000  604000.0         4       3.00         1960   \n",
              "4  1954400510  20150218T000000  510000.0         3       2.00         1680   \n",
              "\n",
              "   sqft_lot  floors  waterfront  view  ...  grade  sqft_above  sqft_basement  \\\n",
              "0      5650     1.0           0     0  ...      7        1180              0   \n",
              "1      7242     2.0           0     0  ...      7        2170            400   \n",
              "2     10000     1.0           0     0  ...      6         770              0   \n",
              "3      5000     1.0           0     0  ...      7        1050            910   \n",
              "4      8080     1.0           0     0  ...      8        1680              0   \n",
              "\n",
              "   yr_built  yr_renovated  zipcode      lat     long  sqft_living15  \\\n",
              "0      1955             0    98178  47.5112 -122.257           1340   \n",
              "1      1951          1991    98125  47.7210 -122.319           1690   \n",
              "2      1933             0    98028  47.7379 -122.233           2720   \n",
              "3      1965             0    98136  47.5208 -122.393           1360   \n",
              "4      1987             0    98074  47.6168 -122.045           1800   \n",
              "\n",
              "   sqft_lot15  \n",
              "0        5650  \n",
              "1        7639  \n",
              "2        8062  \n",
              "3        5000  \n",
              "4        7503  \n",
              "\n",
              "[5 rows x 21 columns]"
            ]
          },
          "metadata": {
            "tags": []
          },
          "execution_count": 9
        }
      ]
    },
    {
      "cell_type": "code",
      "metadata": {
        "id": "IdyBMel1U1eb",
        "outputId": "dd12e636-e877-4718-f517-6ee78a609352"
      },
      "source": [
        "print(len(df))\n",
        "print(len(df_filtered))\n",
        "if(len(df) == len(df_filtered)):\n",
        "    print('No outliners')\n",
        "data = df_filtered"
      ],
      "execution_count": null,
      "outputs": [
        {
          "output_type": "stream",
          "text": [
            "21613\n",
            "21178\n"
          ],
          "name": "stdout"
        }
      ]
    },
    {
      "cell_type": "code",
      "metadata": {
        "id": "CUPbz4dBU1eb",
        "outputId": "95bc30dc-102e-4395-bf0d-63d77538b1f4"
      },
      "source": [
        "data_n = data.copy()\n",
        "for i in data:\n",
        "    if i!='date':\n",
        "        data_n[i] = data[i].copy()\n",
        "        data_n[i] = (data_n[i] - data_n[i].min())/(data_n[i].max() - data_n[i].min())\n",
        "data_n.head()"
      ],
      "execution_count": null,
      "outputs": [
        {
          "output_type": "execute_result",
          "data": {
            "text/html": [
              "<div>\n",
              "<style scoped>\n",
              "    .dataframe tbody tr th:only-of-type {\n",
              "        vertical-align: middle;\n",
              "    }\n",
              "\n",
              "    .dataframe tbody tr th {\n",
              "        vertical-align: top;\n",
              "    }\n",
              "\n",
              "    .dataframe thead th {\n",
              "        text-align: right;\n",
              "    }\n",
              "</style>\n",
              "<table border=\"1\" class=\"dataframe\">\n",
              "  <thead>\n",
              "    <tr style=\"text-align: right;\">\n",
              "      <th></th>\n",
              "      <th>id</th>\n",
              "      <th>date</th>\n",
              "      <th>price</th>\n",
              "      <th>bedrooms</th>\n",
              "      <th>bathrooms</th>\n",
              "      <th>sqft_living</th>\n",
              "      <th>sqft_lot</th>\n",
              "      <th>floors</th>\n",
              "      <th>waterfront</th>\n",
              "      <th>view</th>\n",
              "      <th>...</th>\n",
              "      <th>grade</th>\n",
              "      <th>sqft_above</th>\n",
              "      <th>sqft_basement</th>\n",
              "      <th>yr_built</th>\n",
              "      <th>yr_renovated</th>\n",
              "      <th>zipcode</th>\n",
              "      <th>lat</th>\n",
              "      <th>long</th>\n",
              "      <th>sqft_living15</th>\n",
              "      <th>sqft_lot15</th>\n",
              "    </tr>\n",
              "  </thead>\n",
              "  <tbody>\n",
              "    <tr>\n",
              "      <th>0</th>\n",
              "      <td>0.720103</td>\n",
              "      <td>20141013T000000</td>\n",
              "      <td>0.019266</td>\n",
              "      <td>0.090909</td>\n",
              "      <td>0.12500</td>\n",
              "      <td>0.075680</td>\n",
              "      <td>0.004338</td>\n",
              "      <td>0.0</td>\n",
              "      <td>0.0</td>\n",
              "      <td>0.0</td>\n",
              "      <td>...</td>\n",
              "      <td>0.500000</td>\n",
              "      <td>0.103851</td>\n",
              "      <td>0.000000</td>\n",
              "      <td>0.478261</td>\n",
              "      <td>0.000000</td>\n",
              "      <td>0.893939</td>\n",
              "      <td>0.571498</td>\n",
              "      <td>0.215000</td>\n",
              "      <td>0.153043</td>\n",
              "      <td>0.028583</td>\n",
              "    </tr>\n",
              "    <tr>\n",
              "      <th>1</th>\n",
              "      <td>0.647853</td>\n",
              "      <td>20141209T000000</td>\n",
              "      <td>0.060721</td>\n",
              "      <td>0.090909</td>\n",
              "      <td>0.28125</td>\n",
              "      <td>0.193878</td>\n",
              "      <td>0.005705</td>\n",
              "      <td>0.4</td>\n",
              "      <td>0.0</td>\n",
              "      <td>0.0</td>\n",
              "      <td>...</td>\n",
              "      <td>0.500000</td>\n",
              "      <td>0.219370</td>\n",
              "      <td>0.082988</td>\n",
              "      <td>0.443478</td>\n",
              "      <td>0.988089</td>\n",
              "      <td>0.626263</td>\n",
              "      <td>0.908959</td>\n",
              "      <td>0.163333</td>\n",
              "      <td>0.213913</td>\n",
              "      <td>0.041339</td>\n",
              "    </tr>\n",
              "    <tr>\n",
              "      <th>2</th>\n",
              "      <td>0.568795</td>\n",
              "      <td>20150225T000000</td>\n",
              "      <td>0.013770</td>\n",
              "      <td>0.060606</td>\n",
              "      <td>0.12500</td>\n",
              "      <td>0.040816</td>\n",
              "      <td>0.008074</td>\n",
              "      <td>0.0</td>\n",
              "      <td>0.0</td>\n",
              "      <td>0.0</td>\n",
              "      <td>...</td>\n",
              "      <td>0.416667</td>\n",
              "      <td>0.056009</td>\n",
              "      <td>0.000000</td>\n",
              "      <td>0.286957</td>\n",
              "      <td>0.000000</td>\n",
              "      <td>0.136364</td>\n",
              "      <td>0.936143</td>\n",
              "      <td>0.235000</td>\n",
              "      <td>0.393043</td>\n",
              "      <td>0.044052</td>\n",
              "    </tr>\n",
              "    <tr>\n",
              "      <th>3</th>\n",
              "      <td>0.251157</td>\n",
              "      <td>20141209T000000</td>\n",
              "      <td>0.069377</td>\n",
              "      <td>0.121212</td>\n",
              "      <td>0.37500</td>\n",
              "      <td>0.142007</td>\n",
              "      <td>0.003779</td>\n",
              "      <td>0.0</td>\n",
              "      <td>0.0</td>\n",
              "      <td>0.0</td>\n",
              "      <td>...</td>\n",
              "      <td>0.500000</td>\n",
              "      <td>0.088681</td>\n",
              "      <td>0.188797</td>\n",
              "      <td>0.565217</td>\n",
              "      <td>0.000000</td>\n",
              "      <td>0.681818</td>\n",
              "      <td>0.586939</td>\n",
              "      <td>0.101667</td>\n",
              "      <td>0.156522</td>\n",
              "      <td>0.024415</td>\n",
              "    </tr>\n",
              "    <tr>\n",
              "      <th>4</th>\n",
              "      <td>0.197333</td>\n",
              "      <td>20150218T000000</td>\n",
              "      <td>0.057049</td>\n",
              "      <td>0.090909</td>\n",
              "      <td>0.25000</td>\n",
              "      <td>0.118197</td>\n",
              "      <td>0.006425</td>\n",
              "      <td>0.0</td>\n",
              "      <td>0.0</td>\n",
              "      <td>0.0</td>\n",
              "      <td>...</td>\n",
              "      <td>0.583333</td>\n",
              "      <td>0.162194</td>\n",
              "      <td>0.000000</td>\n",
              "      <td>0.756522</td>\n",
              "      <td>0.000000</td>\n",
              "      <td>0.368687</td>\n",
              "      <td>0.741354</td>\n",
              "      <td>0.391667</td>\n",
              "      <td>0.233043</td>\n",
              "      <td>0.040467</td>\n",
              "    </tr>\n",
              "  </tbody>\n",
              "</table>\n",
              "<p>5 rows × 21 columns</p>\n",
              "</div>"
            ],
            "text/plain": [
              "         id             date     price  bedrooms  bathrooms  sqft_living  \\\n",
              "0  0.720103  20141013T000000  0.019266  0.090909    0.12500     0.075680   \n",
              "1  0.647853  20141209T000000  0.060721  0.090909    0.28125     0.193878   \n",
              "2  0.568795  20150225T000000  0.013770  0.060606    0.12500     0.040816   \n",
              "3  0.251157  20141209T000000  0.069377  0.121212    0.37500     0.142007   \n",
              "4  0.197333  20150218T000000  0.057049  0.090909    0.25000     0.118197   \n",
              "\n",
              "   sqft_lot  floors  waterfront  view  ...     grade  sqft_above  \\\n",
              "0  0.004338     0.0         0.0   0.0  ...  0.500000    0.103851   \n",
              "1  0.005705     0.4         0.0   0.0  ...  0.500000    0.219370   \n",
              "2  0.008074     0.0         0.0   0.0  ...  0.416667    0.056009   \n",
              "3  0.003779     0.0         0.0   0.0  ...  0.500000    0.088681   \n",
              "4  0.006425     0.0         0.0   0.0  ...  0.583333    0.162194   \n",
              "\n",
              "   sqft_basement  yr_built  yr_renovated   zipcode       lat      long  \\\n",
              "0       0.000000  0.478261      0.000000  0.893939  0.571498  0.215000   \n",
              "1       0.082988  0.443478      0.988089  0.626263  0.908959  0.163333   \n",
              "2       0.000000  0.286957      0.000000  0.136364  0.936143  0.235000   \n",
              "3       0.188797  0.565217      0.000000  0.681818  0.586939  0.101667   \n",
              "4       0.000000  0.756522      0.000000  0.368687  0.741354  0.391667   \n",
              "\n",
              "   sqft_living15  sqft_lot15  \n",
              "0       0.153043    0.028583  \n",
              "1       0.213913    0.041339  \n",
              "2       0.393043    0.044052  \n",
              "3       0.156522    0.024415  \n",
              "4       0.233043    0.040467  \n",
              "\n",
              "[5 rows x 21 columns]"
            ]
          },
          "metadata": {
            "tags": []
          },
          "execution_count": 11
        }
      ]
    },
    {
      "cell_type": "code",
      "metadata": {
        "id": "DiVur_weU1ec",
        "outputId": "b0cae095-7b8d-4879-cec4-b21d9c978e1f"
      },
      "source": [
        "train_data,test_data = train_test_split(data_n,test_size=0.1)\n",
        "print(len(train_data))\n",
        "train_data.head()"
      ],
      "execution_count": null,
      "outputs": [
        {
          "output_type": "stream",
          "text": [
            "19060\n"
          ],
          "name": "stdout"
        },
        {
          "output_type": "execute_result",
          "data": {
            "text/html": [
              "<div>\n",
              "<style scoped>\n",
              "    .dataframe tbody tr th:only-of-type {\n",
              "        vertical-align: middle;\n",
              "    }\n",
              "\n",
              "    .dataframe tbody tr th {\n",
              "        vertical-align: top;\n",
              "    }\n",
              "\n",
              "    .dataframe thead th {\n",
              "        text-align: right;\n",
              "    }\n",
              "</style>\n",
              "<table border=\"1\" class=\"dataframe\">\n",
              "  <thead>\n",
              "    <tr style=\"text-align: right;\">\n",
              "      <th></th>\n",
              "      <th>id</th>\n",
              "      <th>date</th>\n",
              "      <th>price</th>\n",
              "      <th>bedrooms</th>\n",
              "      <th>bathrooms</th>\n",
              "      <th>sqft_living</th>\n",
              "      <th>sqft_lot</th>\n",
              "      <th>floors</th>\n",
              "      <th>waterfront</th>\n",
              "      <th>view</th>\n",
              "      <th>...</th>\n",
              "      <th>grade</th>\n",
              "      <th>sqft_above</th>\n",
              "      <th>sqft_basement</th>\n",
              "      <th>yr_built</th>\n",
              "      <th>yr_renovated</th>\n",
              "      <th>zipcode</th>\n",
              "      <th>lat</th>\n",
              "      <th>long</th>\n",
              "      <th>sqft_living15</th>\n",
              "      <th>sqft_lot15</th>\n",
              "    </tr>\n",
              "  </thead>\n",
              "  <tbody>\n",
              "    <tr>\n",
              "      <th>692</th>\n",
              "      <td>0.141590</td>\n",
              "      <td>20140721T000000</td>\n",
              "      <td>0.037364</td>\n",
              "      <td>0.121212</td>\n",
              "      <td>0.28125</td>\n",
              "      <td>0.185374</td>\n",
              "      <td>0.006097</td>\n",
              "      <td>0.4</td>\n",
              "      <td>0.0</td>\n",
              "      <td>0.0</td>\n",
              "      <td>...</td>\n",
              "      <td>0.583333</td>\n",
              "      <td>0.254376</td>\n",
              "      <td>0.000000</td>\n",
              "      <td>0.721739</td>\n",
              "      <td>0.0</td>\n",
              "      <td>0.287879</td>\n",
              "      <td>0.457938</td>\n",
              "      <td>0.311667</td>\n",
              "      <td>0.325217</td>\n",
              "      <td>0.043564</td>\n",
              "    </tr>\n",
              "    <tr>\n",
              "      <th>6239</th>\n",
              "      <td>0.297505</td>\n",
              "      <td>20150302T000000</td>\n",
              "      <td>0.016393</td>\n",
              "      <td>0.090909</td>\n",
              "      <td>0.25000</td>\n",
              "      <td>0.074830</td>\n",
              "      <td>0.008118</td>\n",
              "      <td>0.0</td>\n",
              "      <td>0.0</td>\n",
              "      <td>0.0</td>\n",
              "      <td>...</td>\n",
              "      <td>0.500000</td>\n",
              "      <td>0.102684</td>\n",
              "      <td>0.000000</td>\n",
              "      <td>0.495652</td>\n",
              "      <td>0.0</td>\n",
              "      <td>0.994949</td>\n",
              "      <td>0.429468</td>\n",
              "      <td>0.159167</td>\n",
              "      <td>0.170435</td>\n",
              "      <td>0.055198</td>\n",
              "    </tr>\n",
              "    <tr>\n",
              "      <th>12634</th>\n",
              "      <td>0.022736</td>\n",
              "      <td>20150102T000000</td>\n",
              "      <td>0.054361</td>\n",
              "      <td>0.090909</td>\n",
              "      <td>0.21875</td>\n",
              "      <td>0.153061</td>\n",
              "      <td>0.055797</td>\n",
              "      <td>0.0</td>\n",
              "      <td>0.0</td>\n",
              "      <td>0.0</td>\n",
              "      <td>...</td>\n",
              "      <td>0.583333</td>\n",
              "      <td>0.121354</td>\n",
              "      <td>0.157676</td>\n",
              "      <td>0.669565</td>\n",
              "      <td>0.0</td>\n",
              "      <td>0.358586</td>\n",
              "      <td>0.975068</td>\n",
              "      <td>0.323333</td>\n",
              "      <td>0.346087</td>\n",
              "      <td>0.294908</td>\n",
              "    </tr>\n",
              "    <tr>\n",
              "      <th>10903</th>\n",
              "      <td>0.222699</td>\n",
              "      <td>20150108T000000</td>\n",
              "      <td>0.033639</td>\n",
              "      <td>0.121212</td>\n",
              "      <td>0.21875</td>\n",
              "      <td>0.119898</td>\n",
              "      <td>0.012159</td>\n",
              "      <td>0.0</td>\n",
              "      <td>0.0</td>\n",
              "      <td>0.0</td>\n",
              "      <td>...</td>\n",
              "      <td>0.500000</td>\n",
              "      <td>0.065344</td>\n",
              "      <td>0.176349</td>\n",
              "      <td>0.478261</td>\n",
              "      <td>0.0</td>\n",
              "      <td>0.025253</td>\n",
              "      <td>0.676050</td>\n",
              "      <td>0.310000</td>\n",
              "      <td>0.212174</td>\n",
              "      <td>0.058084</td>\n",
              "    </tr>\n",
              "    <tr>\n",
              "      <th>21131</th>\n",
              "      <td>0.699768</td>\n",
              "      <td>20140626T000000</td>\n",
              "      <td>0.059016</td>\n",
              "      <td>0.121212</td>\n",
              "      <td>0.34375</td>\n",
              "      <td>0.232993</td>\n",
              "      <td>0.005175</td>\n",
              "      <td>0.4</td>\n",
              "      <td>0.0</td>\n",
              "      <td>0.0</td>\n",
              "      <td>...</td>\n",
              "      <td>0.583333</td>\n",
              "      <td>0.319720</td>\n",
              "      <td>0.000000</td>\n",
              "      <td>0.965217</td>\n",
              "      <td>0.0</td>\n",
              "      <td>0.292929</td>\n",
              "      <td>0.523725</td>\n",
              "      <td>0.302500</td>\n",
              "      <td>0.446957</td>\n",
              "      <td>0.054043</td>\n",
              "    </tr>\n",
              "  </tbody>\n",
              "</table>\n",
              "<p>5 rows × 21 columns</p>\n",
              "</div>"
            ],
            "text/plain": [
              "             id             date     price  bedrooms  bathrooms  sqft_living  \\\n",
              "692    0.141590  20140721T000000  0.037364  0.121212    0.28125     0.185374   \n",
              "6239   0.297505  20150302T000000  0.016393  0.090909    0.25000     0.074830   \n",
              "12634  0.022736  20150102T000000  0.054361  0.090909    0.21875     0.153061   \n",
              "10903  0.222699  20150108T000000  0.033639  0.121212    0.21875     0.119898   \n",
              "21131  0.699768  20140626T000000  0.059016  0.121212    0.34375     0.232993   \n",
              "\n",
              "       sqft_lot  floors  waterfront  view  ...     grade  sqft_above  \\\n",
              "692    0.006097     0.4         0.0   0.0  ...  0.583333    0.254376   \n",
              "6239   0.008118     0.0         0.0   0.0  ...  0.500000    0.102684   \n",
              "12634  0.055797     0.0         0.0   0.0  ...  0.583333    0.121354   \n",
              "10903  0.012159     0.0         0.0   0.0  ...  0.500000    0.065344   \n",
              "21131  0.005175     0.4         0.0   0.0  ...  0.583333    0.319720   \n",
              "\n",
              "       sqft_basement  yr_built  yr_renovated   zipcode       lat      long  \\\n",
              "692         0.000000  0.721739           0.0  0.287879  0.457938  0.311667   \n",
              "6239        0.000000  0.495652           0.0  0.994949  0.429468  0.159167   \n",
              "12634       0.157676  0.669565           0.0  0.358586  0.975068  0.323333   \n",
              "10903       0.176349  0.478261           0.0  0.025253  0.676050  0.310000   \n",
              "21131       0.000000  0.965217           0.0  0.292929  0.523725  0.302500   \n",
              "\n",
              "       sqft_living15  sqft_lot15  \n",
              "692         0.325217    0.043564  \n",
              "6239        0.170435    0.055198  \n",
              "12634       0.346087    0.294908  \n",
              "10903       0.212174    0.058084  \n",
              "21131       0.446957    0.054043  \n",
              "\n",
              "[5 rows x 21 columns]"
            ]
          },
          "metadata": {
            "tags": []
          },
          "execution_count": 12
        }
      ]
    },
    {
      "cell_type": "code",
      "metadata": {
        "id": "yRcw4V_kU1ec"
      },
      "source": [
        "dtx = np.array(train_data['sqft_living'])\n",
        "dty = np.array(train_data['price'])"
      ],
      "execution_count": null,
      "outputs": []
    },
    {
      "cell_type": "code",
      "metadata": {
        "id": "P9mu5432U1ed",
        "outputId": "b447b210-3121-45df-f0fd-828d818aedf0"
      },
      "source": [
        "from sympy import * \n",
        "#step-1\n",
        "bs=2\n",
        "m0=1\n",
        "c0=-1\n",
        "epochs=1\n",
        "learningrate=0.1\n",
        "ns=len(dtx)\n",
        "nb=ns//bs\n",
        "\n",
        "#step-2\n",
        "x=Symbol('x')\n",
        "y=Symbol('y')\n",
        "m=Symbol('m')\n",
        "c=Symbol('c')\n",
        "E=(0.5)*(y-(m*x)-c)**2\n",
        "fx=x**2+y**2+10\n",
        "Em=E.diff(m)\n",
        "Ec=E.diff(c)\n",
        "err=[]\n",
        "for itr in range(0,epochs):  #step-9\n",
        " for b in range(0,nb):       #step-8\n",
        "  er=0\n",
        "  dfEm1=0\n",
        "  dfEc1=0\n",
        "  for i in range(0,bs):      #step-7\n",
        "    j=b*bs+i\n",
        "    er+=((dty[i]-(m0*dtx[i])-c0))**2\n",
        "    #step-4\n",
        "    dfEm=Em.subs(m,m0)\n",
        "    dfEm=dfEm.subs(c,c0) \n",
        "    dfEm=dfEm.subs(x,dtx[j]) \n",
        "    dfEm=dfEm.subs(y,dty[j])\n",
        "    dfEm=round(dfEm,2)\n",
        "    dfEc=Ec.subs(m,m0)\n",
        "    dfEc=dfEc.subs(c,c0) \n",
        "    dfEc=dfEc.subs(x,dtx[j]) \n",
        "    dfEc=dfEc.subs(y,dty[j])\n",
        "    dfEc=round(dfEc,2)\n",
        "    dfEm1+=dfEm\n",
        "    dfEc1+=dfEc\n",
        "  #step-5\n",
        "  dfEm1 = dfEm1/bs\n",
        "  dfEc1 = dfEc1/bs\n",
        "  dfEm1 = round(dfEm1,2)\n",
        "  dfEc1 = round(dfEc1,2)\n",
        "  cm=(-1.0)*learningrate*dfEm1\n",
        "  cc=(-1.0)*learningrate*dfEc1\n",
        " \n",
        "  #step-6\n",
        "  m0=m0+cm\n",
        "  c0=c0+cc\n",
        "  m0=round(m0,2)\n",
        "  c0=round(c0,2)\n",
        "  er = (1/(2*len(train_data['sqft_living'])))*(er)\n",
        "  err.append(er)\n",
        "#step-10\n",
        "print('Minimum value is at m=',m0)\n",
        "print('Minimum value is at c=',c0)"
      ],
      "execution_count": null,
      "outputs": [
        {
          "output_type": "stream",
          "text": [
            "Minimum value is at m= 0.84\n",
            "Minimum value is at c= -0.08\n"
          ],
          "name": "stdout"
        }
      ]
    },
    {
      "cell_type": "code",
      "metadata": {
        "id": "HIyQAuFyU1ed",
        "outputId": "a866c10b-488f-4104-934d-0b615edaa6d8"
      },
      "source": [
        "train_data_pred = [i for i in dtx]\n",
        "for k in range(len(dtx)):\n",
        "    train_data_pred[k]=(m0*dtx[k]+c0)\n",
        "from sklearn.metrics import mean_squared_error\n",
        "mse = mean_squared_error(dty,train_data_pred)\n",
        "mse"
      ],
      "execution_count": null,
      "outputs": [
        {
          "output_type": "execute_result",
          "data": {
            "text/plain": [
              "0.0023213583243862717"
            ]
          },
          "metadata": {
            "tags": []
          },
          "execution_count": 15
        }
      ]
    },
    {
      "cell_type": "code",
      "metadata": {
        "id": "g9XCDGS2U1ed",
        "outputId": "277a8e7b-78ab-4adb-8eea-864341cb6e61"
      },
      "source": [
        "plt.plot(np.array(train_data['sqft_living']),np.array(train_data_pred),'black')\n",
        "plt.scatter(np.array(train_data['sqft_living']),np.array(train_data['price']),color='red')\n",
        "plt.title('predicted vs actual(Data)')"
      ],
      "execution_count": null,
      "outputs": [
        {
          "output_type": "execute_result",
          "data": {
            "text/plain": [
              "Text(0.5, 1.0, 'predicted vs actual(Data)')"
            ]
          },
          "metadata": {
            "tags": []
          },
          "execution_count": 16
        },
        {
          "output_type": "display_data",
          "data": {
            "image/png": "[encoded data removed]",
            "text/plain": [
              "<Figure size 432x288 with 1 Axes>"
            ]
          },
          "metadata": {
            "tags": [],
            "needs_background": "light"
          }
        }
      ]
    },
    {
      "cell_type": "code",
      "metadata": {
        "id": "KsVxCKDpU1eh",
        "outputId": "0a2c186a-1533-424b-ad47-a895c81593d5"
      },
      "source": [
        "iters = np.arange(epochs*nb)\n",
        "plt.plot(iters,err,'black')\n",
        "plt.title(\"Error graph for training data\")\n",
        "plt.xlabel(\"iteration count\")\n",
        "plt.ylabel(\"error\")\n",
        "plt.grid()\n"
      ],
      "execution_count": null,
      "outputs": [
        {
          "output_type": "display_data",
          "data": {
            "image/png": "[encoded data removed]",
            "text/plain": [
              "<Figure size 432x288 with 1 Axes>"
            ]
          },
          "metadata": {
            "tags": [],
            "needs_background": "light"
          }
        }
      ]
    },
    {
      "cell_type": "code",
      "metadata": {
        "id": "4iBu7Xd-U1ei",
        "outputId": "10a5d40c-2567-4a7a-a9c1-e4fddee7e1a6"
      },
      "source": [
        "dtx = np.array(test_data['sqft_living'])\n",
        "dty = np.array(test_data['price'])\n",
        "\n",
        "test_data_pred = [i for i in dtx]\n",
        "for k in range(len(dtx)):\n",
        "    test_data_pred[k]=(m0*dtx[k] + c0)\n",
        "from sklearn.metrics import mean_squared_error\n",
        "mse = mean_squared_error(dty,test_data_pred)\n",
        "mse"
      ],
      "execution_count": null,
      "outputs": [
        {
          "output_type": "execute_result",
          "data": {
            "text/plain": [
              "0.0023387236982043086"
            ]
          },
          "metadata": {
            "tags": []
          },
          "execution_count": 23
        }
      ]
    },
    {
      "cell_type": "code",
      "metadata": {
        "id": "0zz9QxWAU1ei",
        "outputId": "3512f1af-a405-4cb4-c77e-482c351479a1"
      },
      "source": [
        "plt.plot(test_data['price'],test_data_pred,'green')\n",
        "plt.grid() "
      ],
      "execution_count": null,
      "outputs": [
        {
          "output_type": "display_data",
          "data": {
            "image/png": "[encoded data removed]",
            "text/plain": [
              "<Figure size 432x288 with 1 Axes>"
            ]
          },
          "metadata": {
            "tags": [],
            "needs_background": "light"
          }
        }
      ]
    },
    {
      "cell_type": "code",
      "metadata": {
        "id": "Tbc-LosaU1ei",
        "outputId": "e5a04639-db7d-4022-ff19-586c1f25c19e"
      },
      "source": [
        "x_min = data['sqft_living'].min()\n",
        "x_max = data['sqft_living'].max()\n",
        "y_min = data['price'].min()\n",
        "y_max = data['price'].max()\n",
        "x0 = float(input(\"enter sqrt feet value :\"))\n",
        "\n",
        "x0= (x0 - x_min)/(x_max - x_min)\n",
        "y = m0*x0+c0\n",
        "y = y*(y_max - y_min) + y_min\n",
        "print(f\"Price  is : {y}\")"
      ],
      "execution_count": null,
      "outputs": [
        {
          "output_type": "stream",
          "text": [
            "enter sqrt feet value :2375\n",
            "Price  is : 599773.422552615\n"
          ],
          "name": "stdout"
        }
      ]
    },
    {
      "cell_type": "code",
      "metadata": {
        "id": "SDtBxzXUU1ej"
      },
      "source": [
        ""
      ],
      "execution_count": null,
      "outputs": []
    }
  ]
}