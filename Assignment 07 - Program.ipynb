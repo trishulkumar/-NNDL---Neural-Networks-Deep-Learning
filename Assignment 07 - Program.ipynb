{
  "nbformat": 4,
  "nbformat_minor": 0,
  "metadata": {
    "colab": {
      "name": "Assignment 07 - Program.ipynb",
      "provenance": []
    },
    "kernelspec": {
      "name": "python3",
      "display_name": "Python 3"
    },
    "language_info": {
      "name": "python"
    }
  },
  "cells": [
    {
      "cell_type": "code",
      "metadata": {
        "colab": {
          "base_uri": "https://localhost:8080/"
        },
        "id": "yW0yhQvcSztC",
        "outputId": "7b2dee15-fc7d-4f90-ea59-e9ccc6a18104"
      },
      "source": [
        "\"\"\"\n",
        "SR University, Warangal, India.\n",
        "Nural-Networks & Deep-Learning - (Professional Elective - 2).\n",
        "Mentor - V.Venkatramana, EEE department.\n",
        "Assignment - 2\n",
        "18K41A0564 \n",
        "\n",
        "\"\"\"\n",
        "\n",
        "\n",
        "from sympy import * \n",
        "dtx=[0.2,0.4,0.6,0.8]\n",
        "dty=[3.4,3.8,4.2,4.6]\n",
        "test_x=[1.0,1.2]\n",
        "test_y=[5.0,5.4]\n",
        "#step-1\n",
        "m0=1\n",
        "c0=-1\n",
        "epochs=100\n",
        "learningrate=0.1\n",
        "\n",
        "#step-2\n",
        "x=Symbol('x')\n",
        "y=Symbol('y')\n",
        "m=Symbol('m')\n",
        "c=Symbol('c')\n",
        "E=(0.5)*(y-(m*x)-c)**2\n",
        "fx=x**2+y**2+10\n",
        "Em=E.diff(m)\n",
        "Ec=E.diff(c)\n",
        "\n",
        "for itr in range(0,epochs):  #step-6\n",
        "  dfEm1=0\n",
        "  dfEc1=0\n",
        "  for j in range(0,len(dtx)):      \n",
        "    #step-3\n",
        "    dfEm=Em.subs(m,m0)\n",
        "    dfEm=dfEm.subs(c,c0) \n",
        "    dfEm=dfEm.subs(x,dtx[j]) \n",
        "    dfEm=dfEm.subs(y,dty[j])\n",
        "    dfEm=round(dfEm,2)\n",
        "    dfEc=Ec.subs(m,m0)\n",
        "    dfEc=dfEc.subs(c,c0) \n",
        "    dfEc=dfEc.subs(x,dtx[j]) \n",
        "    dfEc=dfEc.subs(y,dty[j])\n",
        "    dfEc=round(dfEc,2)\n",
        "    dfEm1+=dfEm\n",
        "    dfEc1+=dfEc\n",
        "  #step-4\n",
        "  dfEm1 = dfEm1/len(dtx)\n",
        "  dfEc1 = dfEc1/len(dtx)\n",
        "  dfEm1 = round(dfEm1,2)\n",
        "  dfEc1 = round(dfEc1,2)\n",
        "  cm=(-1.0)*learningrate*dfEm1\n",
        "  cc=(-1.0)*learningrate*dfEc1\n",
        " \n",
        "  #step-5\n",
        "  m0=m0+cm\n",
        "  c0=c0+cc\n",
        "  m0=round(m0,2)\n",
        "  c0=round(c0,2)\n",
        "#step-7\n",
        "print('Minimum value is at m=',m0)\n",
        "print('Minimum value is at c=',c0)"
      ],
      "execution_count": 1,
      "outputs": [
        {
          "output_type": "stream",
          "text": [
            "Minimum value is at m= 2.71\n",
            "Minimum value is at c= 2.60\n"
          ],
          "name": "stdout"
        }
      ]
    }
  ]
}