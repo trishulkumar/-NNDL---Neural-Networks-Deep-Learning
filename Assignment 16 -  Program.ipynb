{
  "nbformat": 4,
  "nbformat_minor": 0,
  "metadata": {
    "kernelspec": {
      "display_name": "Python 3",
      "language": "python",
      "name": "python3"
    },
    "language_info": {
      "codemirror_mode": {
        "name": "ipython",
        "version": 3
      },
      "file_extension": ".py",
      "mimetype": "text/x-python",
      "name": "python",
      "nbconvert_exporter": "python",
      "pygments_lexer": "ipython3",
      "version": "3.7.6"
    },
    "colab": {
      "name": "Assignment 16 - program.ipynb.txt",
      "provenance": []
    }
  },
  "cells": [
    {
      "cell_type": "code",
      "metadata": {
        "id": "ByjgdDXKZ2i2"
      },
      "source": [
        "\"\"\"\n",
        "\n",
        "SR University, Warangal, India.\n",
        "Nural-Networks & Deep-Learning - (Professional Elective - 2).\n",
        "Mentor - V.Venkatramana, EEE Department.\n",
        "Assignment - 16\n",
        "18K41A0564 \n",
        "\n",
        "\"\"\""
      ],
      "execution_count": null,
      "outputs": []
    },
    {
      "cell_type": "code",
      "metadata": {
        "id": "lb5uClrUZ1yo"
      },
      "source": [
        "import numpy as np\n",
        "import matplotlib.pyplot as plt\n",
        "import pandas as pd\n",
        "from sklearn.preprocessing import minmax_scale\n",
        "from sklearn.model_selection import train_test_split\n",
        "import seaborn as sns\n",
        "from scipy import stats\n"
      ],
      "execution_count": null,
      "outputs": []
    },
    {
      "cell_type": "markdown",
      "metadata": {
        "id": "FoeDlaR0Z1ys"
      },
      "source": [
        "Read Data"
      ]
    },
    {
      "cell_type": "code",
      "metadata": {
        "id": "UpKRGqdrZ1yt",
        "outputId": "a6bb1a92-ce23-4f9b-e8ab-f7d8204aa33f"
      },
      "source": [
        "data = pd.read_excel(\"Load_Data_in_kW.xlsx\",header=None)\n",
        "data.head()"
      ],
      "execution_count": null,
      "outputs": [
        {
          "output_type": "execute_result",
          "data": {
            "text/html": [
              "<div>\n",
              "<style scoped>\n",
              "    .dataframe tbody tr th:only-of-type {\n",
              "        vertical-align: middle;\n",
              "    }\n",
              "\n",
              "    .dataframe tbody tr th {\n",
              "        vertical-align: top;\n",
              "    }\n",
              "\n",
              "    .dataframe thead th {\n",
              "        text-align: right;\n",
              "    }\n",
              "</style>\n",
              "<table border=\"1\" class=\"dataframe\">\n",
              "  <thead>\n",
              "    <tr style=\"text-align: right;\">\n",
              "      <th></th>\n",
              "      <th>0</th>\n",
              "    </tr>\n",
              "  </thead>\n",
              "  <tbody>\n",
              "    <tr>\n",
              "      <th>0</th>\n",
              "      <td>5551.82208</td>\n",
              "    </tr>\n",
              "    <tr>\n",
              "      <th>1</th>\n",
              "      <td>4983.17184</td>\n",
              "    </tr>\n",
              "    <tr>\n",
              "      <th>2</th>\n",
              "      <td>4888.39680</td>\n",
              "    </tr>\n",
              "    <tr>\n",
              "      <th>3</th>\n",
              "      <td>5072.95872</td>\n",
              "    </tr>\n",
              "    <tr>\n",
              "      <th>4</th>\n",
              "      <td>5196.25980</td>\n",
              "    </tr>\n",
              "  </tbody>\n",
              "</table>\n",
              "</div>"
            ],
            "text/plain": [
              "            0\n",
              "0  5551.82208\n",
              "1  4983.17184\n",
              "2  4888.39680\n",
              "3  5072.95872\n",
              "4  5196.25980"
            ]
          },
          "metadata": {
            "tags": []
          },
          "execution_count": 42
        }
      ]
    },
    {
      "cell_type": "code",
      "metadata": {
        "id": "z4ABYU0kZ1yv",
        "outputId": "bca94526-cb9f-444f-aecd-19442bc41c31"
      },
      "source": [
        "data.info()"
      ],
      "execution_count": null,
      "outputs": [
        {
          "output_type": "stream",
          "text": [
            "<class 'pandas.core.frame.DataFrame'>\n",
            "RangeIndex: 2184 entries, 0 to 2183\n",
            "Data columns (total 1 columns):\n",
            " #   Column  Non-Null Count  Dtype  \n",
            "---  ------  --------------  -----  \n",
            " 0   0       2184 non-null   float64\n",
            "dtypes: float64(1)\n",
            "memory usage: 17.2 KB\n"
          ],
          "name": "stdout"
        }
      ]
    },
    {
      "cell_type": "markdown",
      "metadata": {
        "id": "N19fB1XqZ1yw"
      },
      "source": [
        "Outliers"
      ]
    },
    {
      "cell_type": "code",
      "metadata": {
        "id": "ApDhSXsbZ1yx",
        "outputId": "e198480b-3e7a-426b-bc3a-900099d4f824"
      },
      "source": [
        "z = np.abs(stats.zscore(data))\n",
        "print(z)"
      ],
      "execution_count": null,
      "outputs": [
        {
          "output_type": "stream",
          "text": [
            "[[0.04910416]\n",
            " [0.08229029]\n",
            " [0.08782131]\n",
            " ...\n",
            " [0.09743692]\n",
            " [0.07253822]\n",
            " [0.03181432]]\n"
          ],
          "name": "stdout"
        }
      ]
    },
    {
      "cell_type": "code",
      "metadata": {
        "id": "j_1UUBv6Z1yx",
        "outputId": "290bfe71-de3e-4bb2-9d7b-720865506456"
      },
      "source": [
        "sns.boxplot(x=data[0])"
      ],
      "execution_count": null,
      "outputs": [
        {
          "output_type": "execute_result",
          "data": {
            "text/plain": [
              "<matplotlib.axes._subplots.AxesSubplot at 0x1a6f0192d08>"
            ]
          },
          "metadata": {
            "tags": []
          },
          "execution_count": 45
        },
        {
          "output_type": "display_data",
          "data": {
            "image/png": "[encoded data removed]",
            "text/plain": [
              "<Figure size 432x288 with 1 Axes>"
            ]
          },
          "metadata": {
            "tags": [],
            "needs_background": "light"
          }
        }
      ]
    },
    {
      "cell_type": "code",
      "metadata": {
        "id": "uAGGlrLIZ1yy",
        "outputId": "40d9fe1c-06fc-41dc-cb14-f5aa77e21b61"
      },
      "source": [
        "df = data\n",
        "q = df[0].quantile(0.99)\n",
        "df[df[0] < q]\n",
        "q_low = df[0].quantile(0.01)\n",
        "q_hi  = df[0].quantile(0.99)\n",
        "\n",
        "df_filtered = df[(df[0] < q_hi) & (df[0] > q_low)]\n",
        "df_filtered.head()"
      ],
      "execution_count": null,
      "outputs": [
        {
          "output_type": "execute_result",
          "data": {
            "text/html": [
              "<div>\n",
              "<style scoped>\n",
              "    .dataframe tbody tr th:only-of-type {\n",
              "        vertical-align: middle;\n",
              "    }\n",
              "\n",
              "    .dataframe tbody tr th {\n",
              "        vertical-align: top;\n",
              "    }\n",
              "\n",
              "    .dataframe thead th {\n",
              "        text-align: right;\n",
              "    }\n",
              "</style>\n",
              "<table border=\"1\" class=\"dataframe\">\n",
              "  <thead>\n",
              "    <tr style=\"text-align: right;\">\n",
              "      <th></th>\n",
              "      <th>0</th>\n",
              "    </tr>\n",
              "  </thead>\n",
              "  <tbody>\n",
              "    <tr>\n",
              "      <th>0</th>\n",
              "      <td>5551.82208</td>\n",
              "    </tr>\n",
              "    <tr>\n",
              "      <th>1</th>\n",
              "      <td>4983.17184</td>\n",
              "    </tr>\n",
              "    <tr>\n",
              "      <th>2</th>\n",
              "      <td>4888.39680</td>\n",
              "    </tr>\n",
              "    <tr>\n",
              "      <th>3</th>\n",
              "      <td>5072.95872</td>\n",
              "    </tr>\n",
              "    <tr>\n",
              "      <th>4</th>\n",
              "      <td>5196.25980</td>\n",
              "    </tr>\n",
              "  </tbody>\n",
              "</table>\n",
              "</div>"
            ],
            "text/plain": [
              "            0\n",
              "0  5551.82208\n",
              "1  4983.17184\n",
              "2  4888.39680\n",
              "3  5072.95872\n",
              "4  5196.25980"
            ]
          },
          "metadata": {
            "tags": []
          },
          "execution_count": 46
        }
      ]
    },
    {
      "cell_type": "code",
      "metadata": {
        "id": "Wd5g8pptZ1yz",
        "outputId": "016de0d1-1c1c-4652-bc11-19cb46bf4eb7"
      },
      "source": [
        "print(len(data))\n",
        "print(len(df_filtered))\n",
        "if(len(data) == len(df_filtered)):\n",
        "    print('No outliners')\n"
      ],
      "execution_count": null,
      "outputs": [
        {
          "output_type": "stream",
          "text": [
            "2184\n",
            "2140\n"
          ],
          "name": "stdout"
        }
      ]
    },
    {
      "cell_type": "markdown",
      "metadata": {
        "id": "WM4hbxYdZ1y0"
      },
      "source": [
        " Normalisation"
      ]
    },
    {
      "cell_type": "code",
      "metadata": {
        "id": "h-exHrVLZ1y0",
        "outputId": "2ec53d98-3e47-4a04-8a51-7ef11559ec2c"
      },
      "source": [
        "data = df_filtered\n",
        "data_n = data.copy()\n",
        "data_n = (data_n - data_n.min())/(data_n.max() - data_n.min())\n",
        "data_n.head()"
      ],
      "execution_count": null,
      "outputs": [
        {
          "output_type": "execute_result",
          "data": {
            "text/html": [
              "<div>\n",
              "<style scoped>\n",
              "    .dataframe tbody tr th:only-of-type {\n",
              "        vertical-align: middle;\n",
              "    }\n",
              "\n",
              "    .dataframe tbody tr th {\n",
              "        vertical-align: top;\n",
              "    }\n",
              "\n",
              "    .dataframe thead th {\n",
              "        text-align: right;\n",
              "    }\n",
              "</style>\n",
              "<table border=\"1\" class=\"dataframe\">\n",
              "  <thead>\n",
              "    <tr style=\"text-align: right;\">\n",
              "      <th></th>\n",
              "      <th>0</th>\n",
              "    </tr>\n",
              "  </thead>\n",
              "  <tbody>\n",
              "    <tr>\n",
              "      <th>0</th>\n",
              "      <td>0.372950</td>\n",
              "    </tr>\n",
              "    <tr>\n",
              "      <th>1</th>\n",
              "      <td>0.254941</td>\n",
              "    </tr>\n",
              "    <tr>\n",
              "      <th>2</th>\n",
              "      <td>0.235273</td>\n",
              "    </tr>\n",
              "    <tr>\n",
              "      <th>3</th>\n",
              "      <td>0.273574</td>\n",
              "    </tr>\n",
              "    <tr>\n",
              "      <th>4</th>\n",
              "      <td>0.299162</td>\n",
              "    </tr>\n",
              "  </tbody>\n",
              "</table>\n",
              "</div>"
            ],
            "text/plain": [
              "          0\n",
              "0  0.372950\n",
              "1  0.254941\n",
              "2  0.235273\n",
              "3  0.273574\n",
              "4  0.299162"
            ]
          },
          "metadata": {
            "tags": []
          },
          "execution_count": 48
        }
      ]
    },
    {
      "cell_type": "markdown",
      "metadata": {
        "id": "FUuPvSRuZ1y1"
      },
      "source": [
        "Split Data"
      ]
    },
    {
      "cell_type": "code",
      "metadata": {
        "id": "o5oSl50jZ1y2"
      },
      "source": [
        "train_data,test_data = train_test_split(data_n,test_size=0.1)"
      ],
      "execution_count": null,
      "outputs": []
    },
    {
      "cell_type": "code",
      "metadata": {
        "id": "UOzeU11xZ1y2",
        "outputId": "529eecad-f529-4603-ba33-97193eb64cda"
      },
      "source": [
        "print(len(train_data))\n",
        "train_data.head()"
      ],
      "execution_count": null,
      "outputs": [
        {
          "output_type": "stream",
          "text": [
            "1926\n"
          ],
          "name": "stdout"
        },
        {
          "output_type": "execute_result",
          "data": {
            "text/html": [
              "<div>\n",
              "<style scoped>\n",
              "    .dataframe tbody tr th:only-of-type {\n",
              "        vertical-align: middle;\n",
              "    }\n",
              "\n",
              "    .dataframe tbody tr th {\n",
              "        vertical-align: top;\n",
              "    }\n",
              "\n",
              "    .dataframe thead th {\n",
              "        text-align: right;\n",
              "    }\n",
              "</style>\n",
              "<table border=\"1\" class=\"dataframe\">\n",
              "  <thead>\n",
              "    <tr style=\"text-align: right;\">\n",
              "      <th></th>\n",
              "      <th>0</th>\n",
              "    </tr>\n",
              "  </thead>\n",
              "  <tbody>\n",
              "    <tr>\n",
              "      <th>2147</th>\n",
              "      <td>0.445411</td>\n",
              "    </tr>\n",
              "    <tr>\n",
              "      <th>417</th>\n",
              "      <td>0.587229</td>\n",
              "    </tr>\n",
              "    <tr>\n",
              "      <th>1488</th>\n",
              "      <td>0.653511</td>\n",
              "    </tr>\n",
              "    <tr>\n",
              "      <th>643</th>\n",
              "      <td>0.720765</td>\n",
              "    </tr>\n",
              "    <tr>\n",
              "      <th>975</th>\n",
              "      <td>0.765212</td>\n",
              "    </tr>\n",
              "  </tbody>\n",
              "</table>\n",
              "</div>"
            ],
            "text/plain": [
              "             0\n",
              "2147  0.445411\n",
              "417   0.587229\n",
              "1488  0.653511\n",
              "643   0.720765\n",
              "975   0.765212"
            ]
          },
          "metadata": {
            "tags": []
          },
          "execution_count": 50
        }
      ]
    },
    {
      "cell_type": "code",
      "metadata": {
        "id": "_WdkQOzkZ1y3"
      },
      "source": [
        "xa = []\n",
        "ya = []\n",
        "xa1 = []\n",
        "for i in range(24,len(train_data.iloc[:,0])):\n",
        "    xa.append(train_data.iloc[i-24,0])\n",
        "    ya.append(train_data.iloc[i,0])\n",
        "    xa1.append(train_data.iloc[i-1,0])"
      ],
      "execution_count": null,
      "outputs": []
    },
    {
      "cell_type": "markdown",
      "metadata": {
        "id": "pOHMd6gPZ1y3"
      },
      "source": [
        "Train Data"
      ]
    },
    {
      "cell_type": "code",
      "metadata": {
        "id": "JYANZA6BZ1y4",
        "outputId": "832db6b1-0311-4de9-a7a5-56335388f412"
      },
      "source": [
        "from sympy import Symbol, Derivative, symbols\n",
        "w1= Symbol('m1')\n",
        "w2= Symbol('m2')\n",
        "c= Symbol('c')\n",
        "function = '0.5*(y-m1*x1-m2*x2-c)**2'\n",
        "partialderiv= Derivative(function, w1)\n",
        "dfm1 = partialderiv.doit()\n",
        "partialderiv= Derivative(function, w2)\n",
        "dfm2 = partialderiv.doit()\n",
        "partialderiv= Derivative(function, c)\n",
        "dfc = partialderiv.doit()\n",
        "err = []\n",
        "print(f'first order derivatives of given function are de/dm1 = {dfm1},de/dm2 = {dfm2} ,de/dc = {dfc}')\n",
        "\n",
        "#step 1 initialise values \n",
        "m1 = 1.0 \n",
        "m2 = 1.0\n",
        "c1 = -1.0  #variable x, y\n",
        "itr = 20  #epoches\n",
        "EM1 = 0\n",
        "EM2 = 0\n",
        "EC = 0\n",
        "ep = 10**(-8)\n",
        "gama = 0.9\n",
        "learning_rate = 0.1  #learning rate\n",
        "for i in range(0,itr):\n",
        "    er = 0\n",
        "    for j in range(0,len(xa)):\n",
        "        er +=  ((ya[j] - (m1 * xa[j])-(m2 * xa1[j]) - c1))**2\n",
        "        #step 2 substitute x ,y in first order derivatives df/dx, df/dy\n",
        "        w1= Symbol('m1')\n",
        "        w2= Symbol('m2')\n",
        "        c = symbols('c')\n",
        "        x1 = symbols('x1')\n",
        "        x2 = symbols('x2')\n",
        "        y = symbols('y')\n",
        "        dfm1v = dfm1.subs(w1, m1)\n",
        "        dfm1v = dfm1v.subs(w2,m2)\n",
        "        dfm1v = dfm1v.subs(c, c1) \n",
        "        dfm1v = dfm1v.subs(x1, xa[j])\n",
        "        dfm1v = dfm1v.subs(x2, xa1[j])\n",
        "        dfm1v = dfm1v.subs(y, ya[j])         \n",
        "        dfm2v = dfm2.subs(w2, m2)\n",
        "        dfm2v = dfm2v.subs(w1,m1)\n",
        "        dfm2v = dfm2v.subs(c, c1) \n",
        "        dfm2v = dfm2v.subs(x1, xa[j])\n",
        "        dfm2v = dfm2v.subs(x2, xa1[j])\n",
        "        dfm2v = dfm2v.subs(y, ya[j]) \n",
        "        dfm2v = round(dfm2v,2)\n",
        "        dfcv = dfc.subs(c, c1)   \n",
        "        dfcv = dfcv.subs(w2, m2)\n",
        "        dfcv = dfcv.subs(w1,m1)\n",
        "        dfcv = dfcv.subs(x1, xa[j])\n",
        "        dfcv = dfcv.subs(x2, xa1[j])\n",
        "        dfcv = dfcv.subs(y, ya[j]) \n",
        "        dfcv = round(dfcv,2)\n",
        "        \n",
        "        EM1 = gama*EM1 + (1-gama)*(dfm1v**2)        \n",
        "        EM2 = gama*EM2 + (1-gama)*(dfm2v**2)\n",
        "        EC = gama*EC + (1-gama)*(dfcv**2)\n",
        "        #step3 find change in x , y\n",
        "        dm1 = (-1.0)*(learning_rate/(EM1+ep)**(0.5))*dfm1v\n",
        "        dm2 = (-1.0)*(learning_rate/(EM2+ep)**(0.5))*dfm2v\n",
        "        dc = (-1.0)*(learning_rate/(EC+ep)**(0.5))*dfcv\n",
        "        #step4 update variable \n",
        "        m1 = m1 + dm1\n",
        "        m1 = round(m1, 2)\n",
        "        m2 = m2 + dm2\n",
        "        m2 = round(m2, 2)\n",
        "        c1 = c1 + dc\n",
        "        c1 = round(c1, 2)\n",
        "        \n",
        "        er = (1/(2*len(xa)))*(er)\n",
        "        err.append(er)\n",
        "    #step5 increment iterations \n",
        "    #step6 break loop if iterations exceed no of epoches\n",
        "#step7 print variable x1, y1\n",
        "print(m1,m2, c1)\n",
        "print(f'minimum value obtained at m1 = {m1} ,m2 = {m2} ,c ={c1} for given function')"
      ],
      "execution_count": null,
      "outputs": [
        {
          "output_type": "stream",
          "text": [
            "first order derivatives of given function are de/dm1 = -1.0*x1*(-c - m1*x1 - m2*x2 + y),de/dm2 = -1.0*x2*(-c - m1*x1 - m2*x2 + y) ,de/dc = 1.0*c + 1.0*m1*x1 + 1.0*m2*x2 - 1.0*y\n",
            "-0.06 -0.78 0.52\n",
            "minimum value obtained at m1 = -0.06 ,m2 = -0.78 ,c =0.52 for given function\n"
          ],
          "name": "stdout"
        }
      ]
    },
    {
      "cell_type": "markdown",
      "metadata": {
        "id": "YkbjgPyMZ1y5"
      },
      "source": [
        "RMSE for Training data"
      ]
    },
    {
      "cell_type": "code",
      "metadata": {
        "id": "LUf0VgOuZ1y5",
        "outputId": "f9855b3c-3cdb-4fca-9e56-e2389d35714a"
      },
      "source": [
        "\n",
        "train_data_pred = [i for i in xa]\n",
        "for k in range(len(xa)):\n",
        "    train_data_pred[k]=(m1*xa[k]*xa1[k] + c1)\n",
        "from sklearn.metrics import mean_squared_error\n",
        "mse = mean_squared_error(ya,train_data_pred)\n",
        "mse\n"
      ],
      "execution_count": null,
      "outputs": [
        {
          "output_type": "execute_result",
          "data": {
            "text/plain": [
              "0.045251261604451136"
            ]
          },
          "metadata": {
            "tags": []
          },
          "execution_count": 53
        }
      ]
    },
    {
      "cell_type": "code",
      "metadata": {
        "id": "dyqSxoClZ1y5",
        "outputId": "04530fcf-f0bf-4d81-a9ca-95bdb824e764"
      },
      "source": [
        "plt.plot(np.array(xa),np.array(train_data_pred),'green')\n",
        "plt.scatter(np.array(xa),np.array(ya),color='red')\n",
        "plt.title('predicted data vs actual data')"
      ],
      "execution_count": null,
      "outputs": [
        {
          "output_type": "execute_result",
          "data": {
            "text/plain": [
              "Text(0.5, 1.0, 'predicted data vs actual data')"
            ]
          },
          "metadata": {
            "tags": []
          },
          "execution_count": 54
        },
        {
          "output_type": "display_data",
          "data": {
            "image/png": "[encoded data removed]",
            "text/plain": [
              "<Figure size 432x288 with 1 Axes>"
            ]
          },
          "metadata": {
            "tags": [],
            "needs_background": "light"
          }
        }
      ]
    },
    {
      "cell_type": "code",
      "metadata": {
        "id": "2b9Xf7q0Z1y5",
        "outputId": "ee4c6146-a6df-4119-be4f-722e84a699e7"
      },
      "source": [
        "iters = np.arange(itr*len(xa))\n",
        "plt.plot(iters,err,'green')\n",
        "plt.title(\"Error graph for training data\")\n",
        "plt.xlabel(\"iteration count\")\n",
        "plt.ylabel(\"error\")\n",
        "plt.grid()"
      ],
      "execution_count": null,
      "outputs": [
        {
          "output_type": "display_data",
          "data": {
            "image/png": "[encoded data removed]",
            "text/plain": [
              "<Figure size 432x288 with 1 Axes>"
            ]
          },
          "metadata": {
            "tags": [],
            "needs_background": "light"
          }
        }
      ]
    },
    {
      "cell_type": "markdown",
      "metadata": {
        "id": "UIDu3W8dZ1y6"
      },
      "source": [
        "Test Data"
      ]
    },
    {
      "cell_type": "code",
      "metadata": {
        "id": "M3jKW0xcZ1y6",
        "outputId": "67b889aa-bbb4-4e9c-fec9-bb7bed8f9cd0"
      },
      "source": [
        "xa = []\n",
        "ya = []\n",
        "for i in range(len(test_data.iloc[:,0])-24):\n",
        "    xa.append(test_data.iloc[i,0])\n",
        "    ya.append(test_data.iloc[i+24,0])\n",
        "test_data_pred = [i for i in xa]\n",
        "for k in range(len(xa)):\n",
        "    test_data_pred[k]=(m1*xa[k] + c1)\n",
        "from sklearn.metrics import mean_squared_error\n",
        "mse = mean_squared_error(ya,test_data_pred)\n",
        "mse"
      ],
      "execution_count": null,
      "outputs": [
        {
          "output_type": "execute_result",
          "data": {
            "text/plain": [
              "0.04398368528912734"
            ]
          },
          "metadata": {
            "tags": []
          },
          "execution_count": 56
        }
      ]
    },
    {
      "cell_type": "code",
      "metadata": {
        "id": "K2lKBfatZ1y7",
        "outputId": "a6ce438a-decf-4069-c585-23b9eb3c37a3"
      },
      "source": [
        "plt.scatter(xa,ya,color='red')\n",
        "plt.plot(xa,test_data_pred,'green')\n",
        "plt.grid()"
      ],
      "execution_count": null,
      "outputs": [
        {
          "output_type": "display_data",
          "data": {
            "image/png": "[encoded data removed]",
            "text/plain": [
              "<Figure size 432x288 with 1 Axes>"
            ]
          },
          "metadata": {
            "tags": [],
            "needs_background": "light"
          }
        }
      ]
    },
    {
      "cell_type": "markdown",
      "metadata": {
        "id": "9nRC1pCPZ1y7"
      },
      "source": [
        "Predict Output"
      ]
    },
    {
      "cell_type": "code",
      "metadata": {
        "id": "jahxOWa1Z1y7",
        "outputId": "20782ffa-e721-4d83-a2ba-87c325cadaaa"
      },
      "source": [
        "x_max = y_max= 8841.669480\n",
        "x_min = y_min = 3377.919600\n",
        "x =x1 = float(input(\"enter load of previous hour :\"))\n",
        "x = (x - x_min)/(x_max - x_min)\n",
        "y = m1*x + c1\n",
        "y = y*(y_max - y_min) + y_min\n",
        "print(f\"load at hour based on its previous hour is : {y}\")"
      ],
      "execution_count": null,
      "outputs": [
        {
          "output_type": "stream",
          "text": [
            "enter load of previous hour :5073\n",
            "load at hour based on its previous hour is : 6114.70425972656\n"
          ],
          "name": "stdout"
        }
      ]
    },
    {
      "cell_type": "code",
      "metadata": {
        "id": "w2EkqUS5Z1y8"
      },
      "source": [
        ""
      ],
      "execution_count": null,
      "outputs": []
    },
    {
      "cell_type": "code",
      "metadata": {
        "id": "UKTi72PqZ1y8"
      },
      "source": [
        ""
      ],
      "execution_count": null,
      "outputs": []
    }
  ]
}