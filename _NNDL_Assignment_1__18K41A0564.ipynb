{
  "nbformat": 4,
  "nbformat_minor": 0,
  "metadata": {
    "colab": {
      "name": "#NNDL_Assignment  1 _18K41A0564.ipynb",
      "provenance": [],
      "collapsed_sections": []
    },
    "kernelspec": {
      "name": "python3",
      "display_name": "Python 3"
    }
  },
  "cells": [
    {
      "cell_type": "code",
      "metadata": {
        "colab": {
          "base_uri": "https://localhost:8080/"
        },
        "id": "MHhZB-jlpqVK",
        "outputId": "707e0421-2267-43ee-afef-bc874e3617a9"
      },
      "source": [
        "\"\"\"\r\n",
        "SR University,Warangal, India.\r\n",
        "Nural Networks & Deep Learning - Professional Elective 2.\r\n",
        "Mentor - V.Venkatramana, EEE department.\r\n",
        "Assignment 1\r\n",
        "18k41a0564\r\n",
        "\r\n",
        "\"\"\"\r\n",
        "\r\n",
        "from sympy import * \r\n",
        "#library for symbolic mathematics\r\n",
        "\r\n",
        "#step1  -------->       initialize the required variables \r\n",
        "x0 = 2                  #x is some random value\r\n",
        "epoches = 132           #epoches(iterations)\r\n",
        "learning_rate= 0.04     #learning_rate(eta value)\r\n",
        "\r\n",
        "#step2  -------->       1st derivative of the function)\r\n",
        "x=Symbol('x')\r\n",
        "y0=x**4+3*x**2+10\r\n",
        "y=y0.diff(x)\r\n",
        "\r\n",
        "#calculate value of 1st derivative at x0\r\n",
        "\r\n",
        "for i in range(0,epoches):   # --> step5 ------> increments the iter i value.\r\n",
        "  df=y.subs(x,x0)\r\n",
        "  df=round(df,2)\r\n",
        "\r\n",
        "  #step3 ----------> change in x value.\r\n",
        "  x1=-1*(learning_rate)*df\r\n",
        "  x1=round(x1,2)\r\n",
        "\r\n",
        "  #step4 ----------> update x value.\r\n",
        "  x0=x0+x1\r\n",
        "  x0=round(x0,2)\r\n",
        "  \r\n",
        "  #step6 ----------> checks to break the loop or not.\r\n",
        "  if i>epoches:\r\n",
        "    break\r\n",
        "  else:\r\n",
        "    continue\r\n",
        "\r\n",
        "#step7   -------->   print the x and minimum values.\r\n",
        "print('The minimum value obtained is at x =',x0)\r\n",
        "\r\n"
      ],
      "execution_count": 7,
      "outputs": [
        {
          "output_type": "stream",
          "text": [
            "The minimum value obtained is at x = 0.02\n"
          ],
          "name": "stdout"
        }
      ]
    }
  ]
}